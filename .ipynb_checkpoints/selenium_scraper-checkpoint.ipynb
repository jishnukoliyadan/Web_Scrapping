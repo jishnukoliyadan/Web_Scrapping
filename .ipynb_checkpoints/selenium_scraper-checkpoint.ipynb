{
 "cells": [
  {
   "cell_type": "markdown",
   "id": "a4e14de7",
   "metadata": {},
   "source": [
    "# Importing necessory libraries"
   ]
  },
  {
   "cell_type": "code",
   "execution_count": 1,
   "id": "69cede50",
   "metadata": {},
   "outputs": [],
   "source": [
    "import re # For data cleaning\n",
    "\n",
    "import os\n",
    "\n",
    "import pandas as pd\n",
    "\n",
    "from tqdm import tqdm # For status bar representaion\n",
    "\n",
    "from datetime import date"
   ]
  },
  {
   "cell_type": "code",
   "execution_count": 2,
   "id": "5760c8a4",
   "metadata": {},
   "outputs": [],
   "source": [
    "# https://pypi.org/project/webdriver-manager/\n",
    "\n",
    "# !pip install selenium\n",
    "\n",
    "from selenium import webdriver\n",
    "from selenium.webdriver.common.by import By\n",
    "\n",
    "# !pip install webdriver-manager\n",
    "\n",
    "from webdriver_manager.utils import ChromeType\n",
    "from webdriver_manager.chrome import ChromeDriverManager"
   ]
  },
  {
   "cell_type": "markdown",
   "id": "6202e80e",
   "metadata": {},
   "source": [
    "# Creating time variable"
   ]
  },
  {
   "cell_type": "code",
   "execution_count": 3,
   "id": "eab674c0",
   "metadata": {},
   "outputs": [],
   "source": [
    "today = date.today()\n",
    "\n",
    "# dd/mm/YY\n",
    "d1 = today.strftime(\"%d/%m/%Y\")\n",
    "\n",
    "# Textual month, day and year\n",
    "d2 = today.strftime(\"%B %d, %Y\")"
   ]
  },
  {
   "cell_type": "markdown",
   "id": "805d23a2",
   "metadata": {},
   "source": [
    "# Begining Scrapping"
   ]
  },
  {
   "cell_type": "code",
   "execution_count": 4,
   "id": "f98aacf1",
   "metadata": {},
   "outputs": [
    {
     "name": "stderr",
     "output_type": "stream",
     "text": [
      "\n",
      "\n",
      "====== WebDriver manager ======\n",
      "Could not get version for chromium.Is chromium installed?\n",
      "Get LATEST chromedriver version for None chromium\n",
      "Driver [/home/jishnu/.wdm/drivers/chromedriver/linux64/100.0.4896.60/chromedriver] found in cache\n",
      "/tmp/ipykernel_56206/1147766982.py:3: DeprecationWarning: executable_path has been deprecated, please pass in a Service object\n",
      "  driver = webdriver.Chrome(ChromeDriverManager(chrome_type=ChromeType.CHROMIUM).install())\n"
     ]
    },
    {
     "name": "stdout",
     "output_type": "stream",
     "text": [
      "\n",
      "Matches FOUND successfully\n"
     ]
    }
   ],
   "source": [
    "URL = 'https://cryptoslam.io/fan-tokens'\n",
    "\n",
    "driver = webdriver.Chrome(ChromeDriverManager(chrome_type=ChromeType.CHROMIUM).install())\n",
    "\n",
    "driver.get(URL)\n",
    "\n",
    "driver.implicitly_wait(10)\n",
    "\n",
    "matches = driver.find_elements(By.TAG_NAME,'tr')\n",
    "\n",
    "print('\\nMatches FOUND successfully' if matches else '\\nERROR Occured')"
   ]
  },
  {
   "cell_type": "code",
   "execution_count": 5,
   "id": "b82cd634",
   "metadata": {},
   "outputs": [],
   "source": [
    "# Initializing list for storing the scrapped datas\n",
    "\n",
    "name_list, symbol, price, change_24, change_7,change_30, change_90 = [], [], [], [], [], [], []\n",
    "market_cap, volume_USD , volume_COIN, supply, owners = [], [], [], [], []"
   ]
  },
  {
   "cell_type": "code",
   "execution_count": 6,
   "id": "cb8b56e1",
   "metadata": {},
   "outputs": [
    {
     "name": "stdout",
     "output_type": "stream",
     "text": [
      "Starting the exrtaction NOW\n",
      "\n"
     ]
    },
    {
     "name": "stderr",
     "output_type": "stream",
     "text": [
      "100%|███████████████████████████████████████████| 25/25 [00:16<00:00,  1.48it/s]"
     ]
    },
    {
     "name": "stdout",
     "output_type": "stream",
     "text": [
      "\n",
      "Exrtaction COMPLETED\n",
      "\n",
      "Closing web browser\n"
     ]
    },
    {
     "name": "stderr",
     "output_type": "stream",
     "text": [
      "\n"
     ]
    }
   ],
   "source": [
    "print('Starting the exrtaction NOW\\n')\n",
    "\n",
    "# We are using XPATH for locating elements and extracting datas.\n",
    "\n",
    "for match in tqdm(matches):\n",
    "    try :\n",
    "        name_list.append(match.find_element(By.XPATH, './td[2]').text.strip())\n",
    "        symbol.append(match.find_element(By.XPATH, './td[3]').text.strip())\n",
    "        price.append(match.find_element(By.XPATH, './td[4]').text.strip())\n",
    "        change_24.append(match.find_element(By.XPATH, './td[5]').text.strip())\n",
    "        change_7.append(match.find_element(By.XPATH, './td[6]').text.strip())\n",
    "        change_30.append(match.find_element(By.XPATH, './td[7]').text.strip())\n",
    "        change_90.append(match.find_element(By.XPATH, './td[8]').text.strip())\n",
    "        market_cap.append(match.find_element(By.XPATH, './td[9]').text.strip())\n",
    "        volume_USD.append(match.find_element(By.XPATH, './td[10]').text.strip().split('\\n')[0])\n",
    "        volume_COIN.append(match.find_element(By.XPATH, './td[10]').text.strip().split('\\n')[1])\n",
    "        supply.append(match.find_element(By.XPATH, './td[11]').text.strip())\n",
    "        owners.append(match.find_element(By.XPATH, './td[12]').text.strip())\n",
    "    except :\n",
    "        pass\n",
    "    \n",
    "print('\\nExrtaction COMPLETED\\n')\n",
    "\n",
    "print('Closing web browser')\n",
    "\n",
    "driver.quit()"
   ]
  },
  {
   "cell_type": "code",
   "execution_count": 7,
   "id": "45275feb",
   "metadata": {},
   "outputs": [
    {
     "name": "stdout",
     "output_type": "stream",
     "text": [
      "\n",
      "\u001b[95mLength of 'name_list'\t :: 24\n",
      "Length of 'symbol'\t :: 24\n",
      "Length of 'price'\t :: 24\n",
      "Length of 'change_24'\t :: 24\n",
      "Length of 'change_7'\t :: 24\n",
      "Length of 'change_30'\t :: 24\n",
      "Length of 'change_90'\t :: 24\n",
      "Length of 'market_cap'\t :: 24\n",
      "Length of 'volume_USD'\t :: 24\n",
      "Length of 'volume_COIN'\t :: 24\n",
      "Length of 'supply'\t :: 24\n",
      "Length of 'owners'\t :: 24\n"
     ]
    }
   ],
   "source": [
    "# Lets check the length of lists\n",
    "\n",
    "print(f\"\\n\\033[95mLength of 'name_list'\\t :: {len(name_list)}\")\n",
    "print(f\"Length of 'symbol'\\t :: {len(symbol)}\")\n",
    "print(f\"Length of 'price'\\t :: {len(price)}\")\n",
    "print(f\"Length of 'change_24'\\t :: {len(change_24)}\")\n",
    "print(f\"Length of 'change_7'\\t :: {len(change_7)}\")\n",
    "print(f\"Length of 'change_30'\\t :: {len(change_30)}\")\n",
    "print(f\"Length of 'change_90'\\t :: {len(change_90)}\")\n",
    "print(f\"Length of 'market_cap'\\t :: {len(market_cap)}\")\n",
    "print(f\"Length of 'volume_USD'\\t :: {len(volume_USD)}\")\n",
    "print(f\"Length of 'volume_COIN'\\t :: {len(volume_COIN)}\")\n",
    "print(f\"Length of 'supply'\\t :: {len(supply)}\")\n",
    "print(f\"Length of 'owners'\\t :: {len(owners)}\")"
   ]
  },
  {
   "cell_type": "markdown",
   "id": "093455e9",
   "metadata": {},
   "source": [
    "# Create tabular data using scrapped data"
   ]
  },
  {
   "cell_type": "code",
   "execution_count": 8,
   "id": "4fbe157a",
   "metadata": {},
   "outputs": [
    {
     "name": "stdout",
     "output_type": "stream",
     "text": [
      "Current directory path : /home/jishnu/Documents/Web_Scrapping\n",
      "\n",
      "New working path : /home/jishnu/Documents/Web_Scrapping/Data\n",
      "\n",
      "The file saved sucessfully on date : 14/04/2022 : April 14, 2022\n"
     ]
    }
   ],
   "source": [
    "print(f'Current directory path : {os.getcwd()}\\n')\n",
    "\n",
    "os.mkdir('Data') # Creating a new directory to store our csv file\n",
    "os.chdir('Data') # Changing to new working directory 'Data\n",
    "\n",
    "print(f'New working path : {os.getcwd()}\\n')\n",
    "\n",
    "pd.DataFrame({'Name' : name_list,\n",
    "                'Symbol' : symbol,\n",
    "                'Price (USD)' : price,\n",
    "                '24Hr %Change' : change_24,\n",
    "                '7Days %Change' : change_7,\n",
    "                '30Days %Change' : change_30,\n",
    "                '90Days %Change' : change_90,\n",
    "                'Market Cap (USD)' : market_cap,\n",
    "                '24Hr Volume (USD)' : volume_USD,\n",
    "                '24Hr Volume (COIN)' : volume_COIN, \n",
    "                'Circulating_Supply' : supply,\n",
    "                'No. of Owners' : owners}).to_csv('FanTokenPrice_v1.csv', index = False) # Creating 'Pandas' dataframe and saving it into a 'csv' file\n",
    "\n",
    "print(f'The file saved sucessfully on date : {d1} : {d2}')"
   ]
  },
  {
   "cell_type": "markdown",
   "id": "bb093902",
   "metadata": {},
   "source": [
    "# Verify the data file"
   ]
  },
  {
   "cell_type": "code",
   "execution_count": 9,
   "id": "9095bf4f",
   "metadata": {},
   "outputs": [
    {
     "name": "stdout",
     "output_type": "stream",
     "text": [
      "Current directory path : /home/jishnu/Documents/Web_Scrapping/Data\n",
      "\n",
      "-rw-rw-r-- 1 jishnu jishnu 3.0K Apr 14 23:41 FanTokenPrice_v1.csv\r\n"
     ]
    }
   ],
   "source": [
    "# Let's verify the csv files\n",
    "\n",
    "print(f'Current directory path : {os.getcwd()}\\n')\n",
    "\n",
    "!ls -lh *'.csv'"
   ]
  },
  {
   "cell_type": "code",
   "execution_count": 10,
   "id": "639b8733",
   "metadata": {},
   "outputs": [
    {
     "data": {
      "text/html": [
       "<div>\n",
       "<style scoped>\n",
       "    .dataframe tbody tr th:only-of-type {\n",
       "        vertical-align: middle;\n",
       "    }\n",
       "\n",
       "    .dataframe tbody tr th {\n",
       "        vertical-align: top;\n",
       "    }\n",
       "\n",
       "    .dataframe thead th {\n",
       "        text-align: right;\n",
       "    }\n",
       "</style>\n",
       "<table border=\"1\" class=\"dataframe\">\n",
       "  <thead>\n",
       "    <tr style=\"text-align: right;\">\n",
       "      <th></th>\n",
       "      <th>Name</th>\n",
       "      <th>Symbol</th>\n",
       "      <th>Price (USD)</th>\n",
       "      <th>24Hr %Change</th>\n",
       "      <th>7Days %Change</th>\n",
       "      <th>30Days %Change</th>\n",
       "      <th>90Days %Change</th>\n",
       "      <th>Market Cap (USD)</th>\n",
       "      <th>24Hr Volume (USD)</th>\n",
       "      <th>24Hr Volume (COIN)</th>\n",
       "      <th>Circulating_Supply</th>\n",
       "      <th>No. of Owners</th>\n",
       "    </tr>\n",
       "  </thead>\n",
       "  <tbody>\n",
       "    <tr>\n",
       "      <th>0</th>\n",
       "      <td>Manchester City</td>\n",
       "      <td>CITY</td>\n",
       "      <td>$15.22</td>\n",
       "      <td>2.02%</td>\n",
       "      <td>4.90%</td>\n",
       "      <td>34.27%</td>\n",
       "      <td>45.71%</td>\n",
       "      <td>$53,376,632.00</td>\n",
       "      <td>$12,062,368.00</td>\n",
       "      <td>792,790 CITY</td>\n",
       "      <td>3,508,140 CITY</td>\n",
       "      <td>17,889</td>\n",
       "    </tr>\n",
       "    <tr>\n",
       "      <th>1</th>\n",
       "      <td>Paris Saint-Germain</td>\n",
       "      <td>PSG</td>\n",
       "      <td>$13.73</td>\n",
       "      <td>1.40%</td>\n",
       "      <td>5.41%</td>\n",
       "      <td>8.11%</td>\n",
       "      <td>8.05%</td>\n",
       "      <td>$42,704,516.00</td>\n",
       "      <td>$6,768,796.50</td>\n",
       "      <td>493,130 PSG</td>\n",
       "      <td>3,111,171 PSG</td>\n",
       "      <td>20,483</td>\n",
       "    </tr>\n",
       "    <tr>\n",
       "      <th>2</th>\n",
       "      <td>FC Barcelona</td>\n",
       "      <td>BAR</td>\n",
       "      <td>$8.55</td>\n",
       "      <td>1.30%</td>\n",
       "      <td>6.74%</td>\n",
       "      <td>7.85%</td>\n",
       "      <td>8.09%</td>\n",
       "      <td>$33,782,960.00</td>\n",
       "      <td>$1,835,944.50</td>\n",
       "      <td>214,767 BAR</td>\n",
       "      <td>3,951,904 BAR</td>\n",
       "      <td>19,368</td>\n",
       "    </tr>\n",
       "    <tr>\n",
       "      <th>3</th>\n",
       "      <td>Trabzonspor</td>\n",
       "      <td>TRA</td>\n",
       "      <td>$8.43</td>\n",
       "      <td>3.51%</td>\n",
       "      <td>3.46%</td>\n",
       "      <td>84.68%</td>\n",
       "      <td>92.29%</td>\n",
       "      <td>$19,874,160.00</td>\n",
       "      <td>$7,724,333.50</td>\n",
       "      <td>915,798 TRA</td>\n",
       "      <td>2,356,284 TRA</td>\n",
       "      <td>10,173</td>\n",
       "    </tr>\n",
       "    <tr>\n",
       "      <th>4</th>\n",
       "      <td>AC Milan</td>\n",
       "      <td>ACM</td>\n",
       "      <td>$5.98</td>\n",
       "      <td>2.17%</td>\n",
       "      <td>13.63%</td>\n",
       "      <td>31.58%</td>\n",
       "      <td>23.27%</td>\n",
       "      <td>$18,781,216.00</td>\n",
       "      <td>$5,563,583.50</td>\n",
       "      <td>930,513 ACM</td>\n",
       "      <td>3,141,172 ACM</td>\n",
       "      <td>26,865</td>\n",
       "    </tr>\n",
       "  </tbody>\n",
       "</table>\n",
       "</div>"
      ],
      "text/plain": [
       "                  Name Symbol Price (USD) 24Hr %Change 7Days %Change  \\\n",
       "0      Manchester City   CITY      $15.22        2.02%         4.90%   \n",
       "1  Paris Saint-Germain    PSG      $13.73        1.40%         5.41%   \n",
       "2         FC Barcelona    BAR       $8.55        1.30%         6.74%   \n",
       "3          Trabzonspor    TRA       $8.43        3.51%         3.46%   \n",
       "4             AC Milan    ACM       $5.98        2.17%        13.63%   \n",
       "\n",
       "  30Days %Change 90Days %Change Market Cap (USD) 24Hr Volume (USD)  \\\n",
       "0         34.27%         45.71%   $53,376,632.00    $12,062,368.00   \n",
       "1          8.11%          8.05%   $42,704,516.00     $6,768,796.50   \n",
       "2          7.85%          8.09%   $33,782,960.00     $1,835,944.50   \n",
       "3         84.68%         92.29%   $19,874,160.00     $7,724,333.50   \n",
       "4         31.58%         23.27%   $18,781,216.00     $5,563,583.50   \n",
       "\n",
       "  24Hr Volume (COIN) Circulating_Supply No. of Owners  \n",
       "0       792,790 CITY     3,508,140 CITY        17,889  \n",
       "1        493,130 PSG      3,111,171 PSG        20,483  \n",
       "2        214,767 BAR      3,951,904 BAR        19,368  \n",
       "3        915,798 TRA      2,356,284 TRA        10,173  \n",
       "4        930,513 ACM      3,141,172 ACM        26,865  "
      ]
     },
     "execution_count": 10,
     "metadata": {},
     "output_type": "execute_result"
    }
   ],
   "source": [
    "pd.read_csv('FanTokenPrice_v1.csv').head()"
   ]
  }
 ],
 "metadata": {
  "kernelspec": {
   "display_name": "Python 3 (ipykernel)",
   "language": "python",
   "name": "python3"
  },
  "language_info": {
   "codemirror_mode": {
    "name": "ipython",
    "version": 3
   },
   "file_extension": ".py",
   "mimetype": "text/x-python",
   "name": "python",
   "nbconvert_exporter": "python",
   "pygments_lexer": "ipython3",
   "version": "3.8.13"
  }
 },
 "nbformat": 4,
 "nbformat_minor": 5
}
